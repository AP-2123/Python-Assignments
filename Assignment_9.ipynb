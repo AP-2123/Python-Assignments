{
 "cells": [
  {
   "cell_type": "markdown",
   "id": "fb99a5dc",
   "metadata": {},
   "source": [
    "#### 1. To what does a relative path refer?"
   ]
  },
  {
   "cell_type": "markdown",
   "id": "9b93b85f",
   "metadata": {},
   "source": [
    "Ans - A relative path in Python is a path that describes the location of a directory relative to the entry point where you run the Python script."
   ]
  },
  {
   "cell_type": "markdown",
   "id": "7facf2cf",
   "metadata": {},
   "source": [
    "#### 2. What does an absolute path start with your operating system?"
   ]
  },
  {
   "cell_type": "markdown",
   "id": "8255c675",
   "metadata": {},
   "source": [
    "Ans - An absolute path is a path that contains the entire path to the file or directory that you need to access. This path will begin at the home directory of your computer and will end with the file or directory that you wish to access"
   ]
  },
  {
   "cell_type": "markdown",
   "id": "683bd5f0",
   "metadata": {},
   "source": [
    "#### 3. What do the functions os.getcwd() and os.chdir() do?"
   ]
  },
  {
   "cell_type": "markdown",
   "id": "4e5a738d",
   "metadata": {},
   "source": [
    "Ans -\n",
    "getcwd() : CWD stands for Current Working Directory. This function allows you to see what your current working directory is. \n",
    "chdir(\"path-to-dir\") : Short for CHange DIRectory, this function allows you to set the current working directory to a path of your choice"
   ]
  },
  {
   "cell_type": "markdown",
   "id": "7c96d036",
   "metadata": {},
   "source": [
    "#### 4. What are the . and .. folders?"
   ]
  },
  {
   "cell_type": "markdown",
   "id": "7fe28c2f",
   "metadata": {},
   "source": [
    "Ans - \n",
    "The . is the current directory, while .. signifies the parent directory. "
   ]
  },
  {
   "cell_type": "markdown",
   "id": "dded29f4",
   "metadata": {},
   "source": [
    "#### 5. In C:\\bacon\\eggs\\spam.txt, which part is the dir name, and which part is the base name?"
   ]
  },
  {
   "cell_type": "markdown",
   "id": "02e11b81",
   "metadata": {},
   "source": [
    "Ans - \n",
    "C:\\bacon\\eggs is the dir name, while spam. txt is the base name."
   ]
  },
  {
   "cell_type": "markdown",
   "id": "17f6fa3e",
   "metadata": {},
   "source": [
    "#### 6. What are the three “mode” arguments that can be passed to the open() function?"
   ]
  },
  {
   "cell_type": "code",
   "execution_count": null,
   "id": "9c901f66",
   "metadata": {},
   "outputs": [],
   "source": [
    "Ans - \n",
    "\"r\" - Read - Default value. Opens a file for reading, error if the file does not exist\n",
    "\"w\" - Write - Opens a file for writing, creates the file if it does not exist\n",
    "\"b\" - Binary - Binary mode (e.g. images)"
   ]
  },
  {
   "cell_type": "markdown",
   "id": "9563d33a",
   "metadata": {},
   "source": [
    "#### 7. What happens if an existing file is opened in write mode?"
   ]
  },
  {
   "cell_type": "markdown",
   "id": "8d8a927d",
   "metadata": {},
   "source": [
    "Ans - \n",
    "overwrite any existing file with the same name"
   ]
  },
  {
   "cell_type": "markdown",
   "id": "bd301a61",
   "metadata": {},
   "source": [
    "#### 8. How do you tell the difference between read() and readlines()?"
   ]
  },
  {
   "cell_type": "markdown",
   "id": "3b0695bc",
   "metadata": {},
   "source": [
    "Ans - \n",
    "The read() will read the whole file at once and then print out the first characters that take up as many bytes as you specify in the parenthesis versus the readline() that will read and print out only the first characters that take up as many bytes as you specify in the parenthesis."
   ]
  },
  {
   "cell_type": "markdown",
   "id": "822b07a9",
   "metadata": {},
   "source": [
    "#### 9. What data structure does a shelf value resemble?"
   ]
  },
  {
   "cell_type": "markdown",
   "id": "0e23a809",
   "metadata": {},
   "source": [
    "Ans - \n",
    "dict value"
   ]
  }
 ],
 "metadata": {
  "kernelspec": {
   "display_name": "Python 3 (ipykernel)",
   "language": "python",
   "name": "python3"
  },
  "language_info": {
   "codemirror_mode": {
    "name": "ipython",
    "version": 3
   },
   "file_extension": ".py",
   "mimetype": "text/x-python",
   "name": "python",
   "nbconvert_exporter": "python",
   "pygments_lexer": "ipython3",
   "version": "3.9.12"
  }
 },
 "nbformat": 4,
 "nbformat_minor": 5
}
