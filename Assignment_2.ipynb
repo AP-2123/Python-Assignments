{
 "cells": [
  {
   "cell_type": "markdown",
   "id": "e1fff5ae",
   "metadata": {},
   "source": [
    "#### 1.What are the two values of the Boolean data type? How do you write them?"
   ]
  },
  {
   "cell_type": "raw",
   "id": "2c7d988f",
   "metadata": {},
   "source": [
    "Ans ==>\n",
    "True,False"
   ]
  },
  {
   "cell_type": "raw",
   "id": "8bbb1573",
   "metadata": {},
   "source": [
    "Any string is True, except empty strings."
   ]
  },
  {
   "cell_type": "code",
   "execution_count": 1,
   "id": "f7f976e7",
   "metadata": {},
   "outputs": [
    {
     "data": {
      "text/plain": [
       "True"
      ]
     },
     "execution_count": 1,
     "metadata": {},
     "output_type": "execute_result"
    }
   ],
   "source": [
    "bool('abc')"
   ]
  },
  {
   "cell_type": "code",
   "execution_count": 2,
   "id": "a17bf009",
   "metadata": {},
   "outputs": [
    {
     "data": {
      "text/plain": [
       "False"
      ]
     },
     "execution_count": 2,
     "metadata": {},
     "output_type": "execute_result"
    }
   ],
   "source": [
    "bool('')"
   ]
  },
  {
   "cell_type": "raw",
   "id": "59c93f21",
   "metadata": {},
   "source": [
    "Any number is True, except 0"
   ]
  },
  {
   "cell_type": "code",
   "execution_count": 3,
   "id": "8232fafc",
   "metadata": {},
   "outputs": [
    {
     "data": {
      "text/plain": [
       "True"
      ]
     },
     "execution_count": 3,
     "metadata": {},
     "output_type": "execute_result"
    }
   ],
   "source": [
    "bool(10)"
   ]
  },
  {
   "cell_type": "code",
   "execution_count": 4,
   "id": "b9153a5a",
   "metadata": {},
   "outputs": [
    {
     "data": {
      "text/plain": [
       "False"
      ]
     },
     "execution_count": 4,
     "metadata": {},
     "output_type": "execute_result"
    }
   ],
   "source": [
    "bool(0)"
   ]
  },
  {
   "cell_type": "raw",
   "id": "83c7063c",
   "metadata": {},
   "source": [
    "Any list, tuple, set, and dictionary are True, except empty ones."
   ]
  },
  {
   "cell_type": "code",
   "execution_count": 5,
   "id": "b9209efe",
   "metadata": {},
   "outputs": [
    {
     "data": {
      "text/plain": [
       "True"
      ]
     },
     "execution_count": 5,
     "metadata": {},
     "output_type": "execute_result"
    }
   ],
   "source": [
    "lst = [1,2]\n",
    "bool(lst)"
   ]
  },
  {
   "cell_type": "code",
   "execution_count": 6,
   "id": "d5291c5b",
   "metadata": {},
   "outputs": [
    {
     "data": {
      "text/plain": [
       "False"
      ]
     },
     "execution_count": 6,
     "metadata": {},
     "output_type": "execute_result"
    }
   ],
   "source": [
    "lst = []\n",
    "bool(lst)"
   ]
  },
  {
   "cell_type": "markdown",
   "id": "2ded0cb3",
   "metadata": {},
   "source": [
    "#### 2. What are the three different types of Boolean operators?"
   ]
  },
  {
   "cell_type": "raw",
   "id": "b578e85d",
   "metadata": {},
   "source": [
    "Ans ==>\n",
    "and,or,not"
   ]
  },
  {
   "cell_type": "markdown",
   "id": "f26525cb",
   "metadata": {},
   "source": [
    "#### 3. Make a list of each Boolean operator's truth tables (i.e. every possible combination of Boolean values for the operator and what it evaluate)."
   ]
  },
  {
   "cell_type": "raw",
   "id": "2008278f",
   "metadata": {},
   "source": [
    "Ans==>\n",
    "\n",
    "  A          B          A and B          A or B    not A       not B\n",
    "\n",
    "True       True         True              True      False       False\n",
    "True       False        False             True      False       True\n",
    "False      False        False             False     True        True\n",
    "False      True         False             True      True        False"
   ]
  },
  {
   "cell_type": "markdown",
   "id": "d3671f0a",
   "metadata": {},
   "source": [
    "#### 4. What are the values of the following expressions?"
   ]
  },
  {
   "cell_type": "raw",
   "id": "f8bac298",
   "metadata": {},
   "source": [
    "(5 > 4) and (3 == 5)                      ==> False\n",
    "not (5 > 4)                               ==> False\n",
    "(5 > 4) or (3 == 5)                       ==> True\n",
    "not ((5 > 4) or (3 == 5))                 ==> False\n",
    "(True and True) and (True == False)       ==> False\n",
    "(not False) or (not True)                 ==> True"
   ]
  },
  {
   "cell_type": "markdown",
   "id": "d6d4d12b",
   "metadata": {},
   "source": [
    "#### 5. What are the six comparison operators?"
   ]
  },
  {
   "cell_type": "raw",
   "id": "cce99bac",
   "metadata": {},
   "source": [
    "Ans==>\n",
    "1. equal to ==\n",
    "2. greater than >\n",
    "3. less tha <\n",
    "4. greater than and equal to >=\n",
    "5. Less than and equal to <=\n",
    "6. Not equal to !="
   ]
  },
  {
   "cell_type": "markdown",
   "id": "2e955f06",
   "metadata": {},
   "source": [
    "#### 6. How do you tell the difference between the equal to and assignment operators?Describe a condition and when you would use one."
   ]
  },
  {
   "cell_type": "raw",
   "id": "7a6b860e",
   "metadata": {},
   "source": [
    "equal to : ==\n",
    "assignment: ="
   ]
  },
  {
   "cell_type": "code",
   "execution_count": 7,
   "id": "6bb5a66f",
   "metadata": {},
   "outputs": [
    {
     "data": {
      "text/plain": [
       "False"
      ]
     },
     "execution_count": 7,
     "metadata": {},
     "output_type": "execute_result"
    }
   ],
   "source": [
    "#In below example we assigned diff value to the variable a & b.\n",
    "a = 10\n",
    "b = 12\n",
    "#Now suppose we have to compare these two variable then it should return False\n",
    "a == b"
   ]
  },
  {
   "cell_type": "raw",
   "id": "585d77e3",
   "metadata": {},
   "source": [
    "== operator used when we have to return by comparing variables while = is used to assigning value to variables."
   ]
  },
  {
   "cell_type": "markdown",
   "id": "f63b64aa",
   "metadata": {},
   "source": [
    "#### 7. Identify the three blocks in this code:"
   ]
  },
  {
   "cell_type": "raw",
   "id": "927d31a1",
   "metadata": {},
   "source": [
    "spam = 0\n",
    "if spam == 10:\n",
    "    print('eggs')        # block1\n",
    "    if spam > 5:         # block1\n",
    "        print('bacon')   # block1,block2\n",
    "    else:                # block1\n",
    "        print('ham')     # block1,block3\n",
    "    print('spam')        # block1\n",
    "print('spam')\n"
   ]
  },
  {
   "cell_type": "markdown",
   "id": "dfb4231d",
   "metadata": {},
   "source": [
    "#### 8. Write code that prints Hello if 1 is stored in spam, prints Howdy if 2 is stored in spam, and prints Greetings! if anything else is stored in spam."
   ]
  },
  {
   "cell_type": "code",
   "execution_count": 8,
   "id": "0e90a3a4",
   "metadata": {},
   "outputs": [
    {
     "name": "stdout",
     "output_type": "stream",
     "text": [
      "Spam: 10\n",
      "Greetings\n"
     ]
    }
   ],
   "source": [
    "spam = int(input('Spam: '))\n",
    "if spam==1:\n",
    "    print('Hello')\n",
    "elif spam==2:\n",
    "    print('Howdy')\n",
    "else:\n",
    "    print('Greetings')"
   ]
  },
  {
   "cell_type": "markdown",
   "id": "61f9ac72",
   "metadata": {},
   "source": [
    "#### 9.If your programme is stuck in an endless loop, what keys you’ll press?"
   ]
  },
  {
   "cell_type": "raw",
   "id": "25b59483",
   "metadata": {},
   "source": [
    "==> Ctrl + c"
   ]
  },
  {
   "cell_type": "markdown",
   "id": "6f34bacb",
   "metadata": {},
   "source": [
    "#### 10. How can you tell the difference between break and continue?"
   ]
  },
  {
   "cell_type": "raw",
   "id": "43d54662",
   "metadata": {},
   "source": [
    "==>\n",
    "Break is used when we have to run the loop till condition get satisfy and\n",
    "continue is used when we have to skip iteration where condition get satisfy and go to next one. "
   ]
  },
  {
   "cell_type": "code",
   "execution_count": 10,
   "id": "97107d22",
   "metadata": {},
   "outputs": [
    {
     "name": "stdout",
     "output_type": "stream",
     "text": [
      "a\n",
      "n\n"
     ]
    }
   ],
   "source": [
    "for char in 'aniket':\n",
    "    if char == 'i':\n",
    "        break\n",
    "    print(char)"
   ]
  },
  {
   "cell_type": "code",
   "execution_count": 11,
   "id": "d6b16517",
   "metadata": {},
   "outputs": [
    {
     "name": "stdout",
     "output_type": "stream",
     "text": [
      "a\n",
      "n\n",
      "k\n",
      "e\n",
      "t\n"
     ]
    }
   ],
   "source": [
    "for char in 'aniket':\n",
    "    if char == 'i':\n",
    "        continue\n",
    "    print(char)"
   ]
  },
  {
   "cell_type": "markdown",
   "id": "b7ce5b74",
   "metadata": {},
   "source": [
    "#### 11. In a for loop, what is the difference between range(10), range(0, 10), and range(0, 10, 1)?"
   ]
  },
  {
   "cell_type": "raw",
   "id": "f7d98f61",
   "metadata": {},
   "source": [
    "There will be no difference."
   ]
  },
  {
   "cell_type": "code",
   "execution_count": 12,
   "id": "ba5761f8",
   "metadata": {},
   "outputs": [
    {
     "name": "stdout",
     "output_type": "stream",
     "text": [
      "0123456789"
     ]
    }
   ],
   "source": [
    "for i in range(10):\n",
    "    print(i, end='')"
   ]
  },
  {
   "cell_type": "code",
   "execution_count": 13,
   "id": "15a503a6",
   "metadata": {},
   "outputs": [
    {
     "name": "stdout",
     "output_type": "stream",
     "text": [
      "0123456789"
     ]
    }
   ],
   "source": [
    "for i in range(0,10):\n",
    "    print(i,end='')"
   ]
  },
  {
   "cell_type": "code",
   "execution_count": 14,
   "id": "a88cf256",
   "metadata": {},
   "outputs": [
    {
     "name": "stdout",
     "output_type": "stream",
     "text": [
      "0123456789"
     ]
    }
   ],
   "source": [
    "for i in range(0,10,1):\n",
    "    print(i,end='')"
   ]
  },
  {
   "cell_type": "markdown",
   "id": "a0fad6cc",
   "metadata": {},
   "source": [
    "#### 12. Write a short program that prints the numbers 1 to 10 using a for loop. Then write an equivalent program that prints the numbers 1 to 10 using a while loop."
   ]
  },
  {
   "cell_type": "code",
   "execution_count": 15,
   "id": "a815c3dd",
   "metadata": {},
   "outputs": [
    {
     "name": "stdout",
     "output_type": "stream",
     "text": [
      "1 2 3 4 5 6 7 8 9 10 "
     ]
    }
   ],
   "source": [
    "for i in range(1,11):\n",
    "    print(i, end=' ')"
   ]
  },
  {
   "cell_type": "code",
   "execution_count": 16,
   "id": "03d4cd7a",
   "metadata": {},
   "outputs": [
    {
     "name": "stdout",
     "output_type": "stream",
     "text": [
      "1 2 3 4 5 6 7 8 9 10 "
     ]
    }
   ],
   "source": [
    "i = 1\n",
    "while i <= 10:\n",
    "    print(i, end=' ')\n",
    "    i+=1"
   ]
  },
  {
   "cell_type": "markdown",
   "id": "5d55b866",
   "metadata": {},
   "source": [
    "#### 13. If you had a function named bacon() inside a module named spam, how would you call it after importing spam?"
   ]
  },
  {
   "cell_type": "raw",
   "id": "bfb0444b",
   "metadata": {},
   "source": [
    "spam.bacon()"
   ]
  },
  {
   "cell_type": "code",
   "execution_count": null,
   "id": "30d05fb7",
   "metadata": {},
   "outputs": [],
   "source": []
  }
 ],
 "metadata": {
  "kernelspec": {
   "display_name": "Python 3 (ipykernel)",
   "language": "python",
   "name": "python3"
  },
  "language_info": {
   "codemirror_mode": {
    "name": "ipython",
    "version": 3
   },
   "file_extension": ".py",
   "mimetype": "text/x-python",
   "name": "python",
   "nbconvert_exporter": "python",
   "pygments_lexer": "ipython3",
   "version": "3.9.12"
  }
 },
 "nbformat": 4,
 "nbformat_minor": 5
}
