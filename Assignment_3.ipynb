{
 "cells": [
  {
   "cell_type": "markdown",
   "id": "af21152f",
   "metadata": {},
   "source": [
    "#### 1. Why are functions advantageous to have in your programs?"
   ]
  },
  {
   "cell_type": "raw",
   "id": "bfeac1c1",
   "metadata": {},
   "source": [
    "==>Reusability.By using functions, we can avoid rewriting same logic/code again and again in a program"
   ]
  },
  {
   "cell_type": "markdown",
   "id": "bda2db12",
   "metadata": {},
   "source": [
    "#### 2. When does the code in a function run: when it's specified or when it's called?"
   ]
  },
  {
   "cell_type": "raw",
   "id": "7ba28530",
   "metadata": {},
   "source": [
    "==>when it's called"
   ]
  },
  {
   "cell_type": "markdown",
   "id": "c3375439",
   "metadata": {},
   "source": [
    "#### 3. What statement creates a function?"
   ]
  },
  {
   "cell_type": "raw",
   "id": "b2a1ddb9",
   "metadata": {},
   "source": [
    "\"def\" keyword creates function \n",
    "\n",
    "def fname():\n",
    "    return"
   ]
  },
  {
   "cell_type": "markdown",
   "id": "0b26e2e6",
   "metadata": {},
   "source": [
    "#### 4. What is the difference between a function and a function call?"
   ]
  },
  {
   "cell_type": "code",
   "execution_count": 2,
   "id": "df17bdf0",
   "metadata": {},
   "outputs": [
    {
     "name": "stdout",
     "output_type": "stream",
     "text": [
      "5\n"
     ]
    }
   ],
   "source": [
    "#A function is a block of code that does a particular operation and returns a result. \n",
    "#It usually accepts inputs as parameters and returns a result.\n",
    "\n",
    "def add(a,b):\n",
    "    return a+b\n",
    "#A function call is the code used to pass control to a function.\n",
    "\n",
    "print(add(2,3))"
   ]
  },
  {
   "cell_type": "markdown",
   "id": "8d7c3896",
   "metadata": {},
   "source": [
    "#### 5. How many global scopes are there in a Python program? How many local scopes?"
   ]
  },
  {
   "cell_type": "raw",
   "id": "a77bc27e",
   "metadata": {},
   "source": [
    "Global Scope==> only one\n",
    "local scope ==> any number"
   ]
  },
  {
   "cell_type": "markdown",
   "id": "46102aae",
   "metadata": {},
   "source": [
    "#### 6. What happens to variables in a local scope when the function call returns?"
   ]
  },
  {
   "cell_type": "raw",
   "id": "481da42b",
   "metadata": {},
   "source": [
    "A local variabale will not be used until and unless called the function "
   ]
  },
  {
   "cell_type": "markdown",
   "id": "03c6a360",
   "metadata": {},
   "source": [
    "#### 7. What is the concept of a return value? Is it possible to have a return value in an expression?"
   ]
  },
  {
   "cell_type": "raw",
   "id": "57f500d2",
   "metadata": {},
   "source": [
    "A return is a value that a function returns to the calling script or function when it completes its task.\n",
    "YES,we can use expression to return value.\n",
    "\n",
    "def add(a,b):\n",
    "    return a+b"
   ]
  },
  {
   "cell_type": "markdown",
   "id": "0a458177",
   "metadata": {},
   "source": [
    "#### 8. If a function does not have a return statement, what is the return value of a call to that function?"
   ]
  },
  {
   "cell_type": "raw",
   "id": "203197ef",
   "metadata": {},
   "source": [
    "==>undefined"
   ]
  },
  {
   "cell_type": "markdown",
   "id": "0bfb0fb8",
   "metadata": {},
   "source": [
    "#### 9. How do you make a function variable refer to the global variable?"
   ]
  },
  {
   "cell_type": "raw",
   "id": "fc55365d",
   "metadata": {},
   "source": [
    "==> Use global keyword inside function"
   ]
  },
  {
   "cell_type": "markdown",
   "id": "8d698c00",
   "metadata": {},
   "source": [
    "#### 10. What is the data type of None?"
   ]
  },
  {
   "cell_type": "raw",
   "id": "34302fdd",
   "metadata": {},
   "source": [
    "==>NoneType"
   ]
  },
  {
   "cell_type": "markdown",
   "id": "3940806b",
   "metadata": {},
   "source": [
    "#### 11. What does the sentence import areallyourpetsnamederic do?"
   ]
  },
  {
   "cell_type": "raw",
   "id": "3b1c0418",
   "metadata": {},
   "source": [
    "==>importing library named areallyourpetsnamederic"
   ]
  },
  {
   "cell_type": "markdown",
   "id": "65151286",
   "metadata": {},
   "source": [
    "#### 12. If you had a bacon() feature in a spam module, what would you call it after importing spam?"
   ]
  },
  {
   "cell_type": "raw",
   "id": "3fcbea8d",
   "metadata": {},
   "source": [
    "spam.bacon()"
   ]
  },
  {
   "cell_type": "markdown",
   "id": "9cb0894d",
   "metadata": {},
   "source": [
    "#### 13. What can you do to save a programme from crashing if it encounters an error?"
   ]
  },
  {
   "cell_type": "raw",
   "id": "ee9a4b15",
   "metadata": {},
   "source": [
    "Try running the program and it should throw an error message instead of crashing the program. The reason for the exception is also returned as an exception message. "
   ]
  },
  {
   "cell_type": "markdown",
   "id": "add0c01f",
   "metadata": {},
   "source": [
    "#### 14. What is the purpose of the try clause? What is the purpose of the except clause?"
   ]
  },
  {
   "cell_type": "raw",
   "id": "1a57742b",
   "metadata": {},
   "source": [
    "In the try clause, all statements are executed until an exception is encountered. except is used to catch and handle the exception(s) that are encountered in the try clause. else lets you code sections that should run only when no exceptions are encountered in the try clause."
   ]
  }
 ],
 "metadata": {
  "kernelspec": {
   "display_name": "Python 3 (ipykernel)",
   "language": "python",
   "name": "python3"
  },
  "language_info": {
   "codemirror_mode": {
    "name": "ipython",
    "version": 3
   },
   "file_extension": ".py",
   "mimetype": "text/x-python",
   "name": "python",
   "nbconvert_exporter": "python",
   "pygments_lexer": "ipython3",
   "version": "3.9.12"
  }
 },
 "nbformat": 4,
 "nbformat_minor": 5
}
