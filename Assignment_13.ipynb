{
 "cells": [
  {
   "cell_type": "markdown",
   "id": "9b89209d",
   "metadata": {},
   "source": [
    "#### 1. What advantages do Excel spreadsheets have over CSV spreadsheets?"
   ]
  },
  {
   "cell_type": "markdown",
   "id": "c3ac0b56",
   "metadata": {},
   "source": [
    "1. read large data,\n",
    "2. user can perform mathematical opertaion using inbuilt functions,\n",
    "3. VBA coding,\n",
    "4. insert external links,\n",
    "5. data visualization using charts,\n",
    "6. add/remove rows and columns easily.\n",
    "7. have types to their values\n",
    "8. settings for font size or color\n",
    "9. multiple worksheets\n",
    "10. specify cell widths and heights\n",
    "11. merge cells"
   ]
  },
  {
   "cell_type": "markdown",
   "id": "d9c13b63",
   "metadata": {},
   "source": [
    "#### 2.What do you pass to csv.reader() and csv.writer() to create reader and writer objects?"
   ]
  },
  {
   "cell_type": "markdown",
   "id": "e95a6e65",
   "metadata": {},
   "source": [
    "1.call open() and pass it 'r' to open a file in read mode. \n",
    "2.call open() and pass it 'w' to open a file in write mode."
   ]
  },
  {
   "cell_type": "markdown",
   "id": "76933c5a",
   "metadata": {},
   "source": [
    "#### 3. What modes do File objects for reader and writer objects need to be opened in?"
   ]
  },
  {
   "cell_type": "markdown",
   "id": "6a1d6859",
   "metadata": {},
   "source": [
    "‘r’- Open a file for reading.\n",
    "‘w’- Open a file for writing. Creates a new file if it does not exist or truncates the file if it exists.\n",
    "‘x’- Open a file for exclusive creation. If the file already exists, the operation fails.\n",
    "‘a’- Open for appending at the end of the file without truncating it. Creates a new file if it does not exist.\n",
    "‘t’- Open in text mode.\n",
    "‘b’ - Open in binary mode.\n",
    "‘+’ - Open a file for updating (reading and writing)"
   ]
  },
  {
   "cell_type": "markdown",
   "id": "554e6f0a",
   "metadata": {},
   "source": [
    "#### 4. What method takes a list argument and writes it to a CSV file?"
   ]
  },
  {
   "cell_type": "markdown",
   "id": "a6e6609f",
   "metadata": {},
   "source": [
    "writerow() method of writer and DictWriter class"
   ]
  },
  {
   "cell_type": "markdown",
   "id": "37efed18",
   "metadata": {},
   "source": [
    "#### 5. What do the keyword arguments delimiter and line terminator do?"
   ]
  },
  {
   "cell_type": "markdown",
   "id": "55365057",
   "metadata": {},
   "source": [
    "The delimiter is the character that appears between cells on a row. By default, the delimiter for a CSV file is a comma. \n",
    "The line terminator is the character that comes at the end of a row. By default, the line terminator is a newline"
   ]
  },
  {
   "cell_type": "markdown",
   "id": "24042f56",
   "metadata": {},
   "source": [
    "#### 6. What function takes a string of JSON data and returns a Python data structure?"
   ]
  },
  {
   "cell_type": "markdown",
   "id": "54d99b81",
   "metadata": {},
   "source": [
    " json.loads()"
   ]
  },
  {
   "cell_type": "markdown",
   "id": "831d6313",
   "metadata": {},
   "source": [
    "#### 7. What function takes a Python data structure and returns a string of JSON data?"
   ]
  },
  {
   "cell_type": "markdown",
   "id": "e3c539fd",
   "metadata": {},
   "source": [
    " json.dumps()"
   ]
  }
 ],
 "metadata": {
  "kernelspec": {
   "display_name": "Python 3 (ipykernel)",
   "language": "python",
   "name": "python3"
  },
  "language_info": {
   "codemirror_mode": {
    "name": "ipython",
    "version": 3
   },
   "file_extension": ".py",
   "mimetype": "text/x-python",
   "name": "python",
   "nbconvert_exporter": "python",
   "pygments_lexer": "ipython3",
   "version": "3.9.12"
  }
 },
 "nbformat": 4,
 "nbformat_minor": 5
}
