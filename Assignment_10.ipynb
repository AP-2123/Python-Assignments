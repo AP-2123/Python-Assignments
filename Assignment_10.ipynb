{
 "cells": [
  {
   "cell_type": "markdown",
   "id": "97d93774",
   "metadata": {},
   "source": [
    "### 1. How do you distinguish between shutil.copy() and shutil.copytree()?"
   ]
  },
  {
   "cell_type": "markdown",
   "id": "a6a0a715",
   "metadata": {},
   "source": [
    "Ans==>\n",
    "shutil. copy() - copy a single file, \n",
    "shutil. copytree() - copies an entire directory tree rooted at source (src) to the destination directory"
   ]
  },
  {
   "cell_type": "markdown",
   "id": "13b43c85",
   "metadata": {},
   "source": [
    "### 2. What function is used to rename files??"
   ]
  },
  {
   "cell_type": "markdown",
   "id": "3af53fcf",
   "metadata": {},
   "source": [
    "Ans==>\n",
    "\n",
    "rename()\n",
    "eg.\n",
    "import os\n",
    "os.rename(current_file_name, new_file_name)\n",
    "\n",
    "The shutil.move() function is used for renaming files, as well as moving them."
   ]
  },
  {
   "cell_type": "markdown",
   "id": "f56c3369",
   "metadata": {},
   "source": [
    "### 3. What is the difference between the delete functions in the send2trash and shutil modules?"
   ]
  },
  {
   "cell_type": "markdown",
   "id": "e23013d1",
   "metadata": {},
   "source": [
    "Ans==>\n",
    "\n",
    "The send2trash functions moves a file or folder to the recycle bin,\n",
    "while shutil functions will permanently delete files and folders."
   ]
  },
  {
   "cell_type": "markdown",
   "id": "caee48aa",
   "metadata": {},
   "source": [
    "### 4. ZipFile objects have a close() method just like File objects’ close() method. What ZipFile method is equivalent to File objects’ open() method?"
   ]
  },
  {
   "cell_type": "markdown",
   "id": "87abdc6d",
   "metadata": {},
   "source": [
    "Ans==>\n",
    "\n",
    "The zipfile.ZipFile() function is equivalent to the open() function; the first argument is the filename, and the second argument is the mode to open the ZIP file in (read, write, or append)."
   ]
  },
  {
   "cell_type": "markdown",
   "id": "ab4ac181",
   "metadata": {},
   "source": [
    "### 5. Create a programme that searches a folder tree for files with a certain file extension (such as .pdf or .jpg). Copy these files from whatever location they are in to a new folder."
   ]
  },
  {
   "cell_type": "code",
   "execution_count": 1,
   "id": "9cced48d",
   "metadata": {},
   "outputs": [
    {
     "name": "stdout",
     "output_type": "stream",
     "text": [
      "Looking in F:\\CW\\Basic Python for files with extensions of .ipynb\n",
      "Coping F:\\CW\\Basic Python\\Assignment_1.ipynb to F:\\CW\\Basic Python\\New\n",
      "Coping F:\\CW\\Basic Python\\Assignment_10.ipynb to F:\\CW\\Basic Python\\New\n",
      "Coping F:\\CW\\Basic Python\\Assignment_2.ipynb to F:\\CW\\Basic Python\\New\n",
      "Coping F:\\CW\\Basic Python\\Assignment_3.ipynb to F:\\CW\\Basic Python\\New\n",
      "Coping F:\\CW\\Basic Python\\Assignment_4.ipynb to F:\\CW\\Basic Python\\New\n",
      "Coping F:\\CW\\Basic Python\\Assignment_5.ipynb to F:\\CW\\Basic Python\\New\n",
      "Coping F:\\CW\\Basic Python\\Assignment_6.ipynb to F:\\CW\\Basic Python\\New\n",
      "Coping F:\\CW\\Basic Python\\Assignment_7.ipynb to F:\\CW\\Basic Python\\New\n",
      "Coping F:\\CW\\Basic Python\\Assignment_8.ipynb to F:\\CW\\Basic Python\\New\n",
      "Coping F:\\CW\\Basic Python\\Assignment_9.ipynb to F:\\CW\\Basic Python\\New\n",
      "Coping F:\\CW\\Basic Python\\P1.ipynb to F:\\CW\\Basic Python\\New\n",
      "Coping F:\\CW\\Basic Python\\P10.ipynb to F:\\CW\\Basic Python\\New\n",
      "Coping F:\\CW\\Basic Python\\P2.ipynb to F:\\CW\\Basic Python\\New\n",
      "Coping F:\\CW\\Basic Python\\P3.ipynb to F:\\CW\\Basic Python\\New\n",
      "Coping F:\\CW\\Basic Python\\P4.ipynb to F:\\CW\\Basic Python\\New\n",
      "Coping F:\\CW\\Basic Python\\P5.ipynb to F:\\CW\\Basic Python\\New\n",
      "Coping F:\\CW\\Basic Python\\P6.ipynb to F:\\CW\\Basic Python\\New\n",
      "Coping F:\\CW\\Basic Python\\P7.ipynb to F:\\CW\\Basic Python\\New\n",
      "Coping F:\\CW\\Basic Python\\P8.ipynb to F:\\CW\\Basic Python\\New\n",
      "Coping F:\\CW\\Basic Python\\P9.ipynb to F:\\CW\\Basic Python\\New\n",
      "Coping F:\\CW\\Basic Python\\Practice.ipynb to F:\\CW\\Basic Python\\New\n",
      "Coping F:\\CW\\Basic Python\\Untitled.ipynb to F:\\CW\\Basic Python\\New\n",
      "Coping F:\\CW\\Basic Python\\.ipynb_checkpoints\\Assignment_1-checkpoint.ipynb to F:\\CW\\Basic Python\\New\n",
      "Coping F:\\CW\\Basic Python\\.ipynb_checkpoints\\Assignment_10-checkpoint.ipynb to F:\\CW\\Basic Python\\New\n",
      "Coping F:\\CW\\Basic Python\\.ipynb_checkpoints\\Assignment_2-checkpoint.ipynb to F:\\CW\\Basic Python\\New\n",
      "Coping F:\\CW\\Basic Python\\.ipynb_checkpoints\\Assignment_3-checkpoint.ipynb to F:\\CW\\Basic Python\\New\n",
      "Coping F:\\CW\\Basic Python\\.ipynb_checkpoints\\Assignment_4-checkpoint.ipynb to F:\\CW\\Basic Python\\New\n",
      "Coping F:\\CW\\Basic Python\\.ipynb_checkpoints\\Assignment_5-checkpoint.ipynb to F:\\CW\\Basic Python\\New\n",
      "Coping F:\\CW\\Basic Python\\.ipynb_checkpoints\\Assignment_6-checkpoint.ipynb to F:\\CW\\Basic Python\\New\n",
      "Coping F:\\CW\\Basic Python\\.ipynb_checkpoints\\Assignment_7-checkpoint.ipynb to F:\\CW\\Basic Python\\New\n",
      "Coping F:\\CW\\Basic Python\\.ipynb_checkpoints\\Assignment_8-checkpoint.ipynb to F:\\CW\\Basic Python\\New\n",
      "Coping F:\\CW\\Basic Python\\.ipynb_checkpoints\\Assignment_9-checkpoint.ipynb to F:\\CW\\Basic Python\\New\n",
      "Coping F:\\CW\\Basic Python\\.ipynb_checkpoints\\P1-checkpoint.ipynb to F:\\CW\\Basic Python\\New\n",
      "Coping F:\\CW\\Basic Python\\.ipynb_checkpoints\\P10-checkpoint.ipynb to F:\\CW\\Basic Python\\New\n",
      "Coping F:\\CW\\Basic Python\\.ipynb_checkpoints\\P2-checkpoint.ipynb to F:\\CW\\Basic Python\\New\n",
      "Coping F:\\CW\\Basic Python\\.ipynb_checkpoints\\P3-checkpoint.ipynb to F:\\CW\\Basic Python\\New\n",
      "Coping F:\\CW\\Basic Python\\.ipynb_checkpoints\\P4-checkpoint.ipynb to F:\\CW\\Basic Python\\New\n",
      "Coping F:\\CW\\Basic Python\\.ipynb_checkpoints\\P5-checkpoint.ipynb to F:\\CW\\Basic Python\\New\n",
      "Coping F:\\CW\\Basic Python\\.ipynb_checkpoints\\P6-checkpoint.ipynb to F:\\CW\\Basic Python\\New\n",
      "Coping F:\\CW\\Basic Python\\.ipynb_checkpoints\\P7-checkpoint.ipynb to F:\\CW\\Basic Python\\New\n",
      "Coping F:\\CW\\Basic Python\\.ipynb_checkpoints\\P8-checkpoint.ipynb to F:\\CW\\Basic Python\\New\n",
      "Coping F:\\CW\\Basic Python\\.ipynb_checkpoints\\P9-checkpoint.ipynb to F:\\CW\\Basic Python\\New\n",
      "Coping F:\\CW\\Basic Python\\.ipynb_checkpoints\\Practice-checkpoint.ipynb to F:\\CW\\Basic Python\\New\n",
      "Coping F:\\CW\\Basic Python\\.ipynb_checkpoints\\Untitled-checkpoint.ipynb to F:\\CW\\Basic Python\\New\n"
     ]
    }
   ],
   "source": [
    "import os, shutil\n",
    "\n",
    "def selectiveCopy(folder, extensions, destFolder):\n",
    "    folder = os.path.abspath(folder)\n",
    "    destFolder = os.path.abspath(destFolder)\n",
    "    print('Looking in', folder, 'for files with extensions of', ', '.join(extensions))\n",
    "    for foldername, subfolders, filenames in os.walk(folder):\n",
    "        for filename in filenames:\n",
    "            name, extension = os.path.splitext(filename)\n",
    "            if extension in extensions:\n",
    "                fileAbsPath = foldername + os.path.sep + filename\n",
    "                print('Coping', fileAbsPath, 'to', destFolder)\n",
    "                shutil.copy(fileAbsPath, destFolder)\n",
    "\n",
    "extensions = ['.ipynb']\n",
    "folder = ''\n",
    "destFolder = 'New'\n",
    "selectiveCopy(folder, extensions, destFolder)"
   ]
  },
  {
   "cell_type": "code",
   "execution_count": null,
   "id": "c49a8c06",
   "metadata": {},
   "outputs": [],
   "source": []
  }
 ],
 "metadata": {
  "kernelspec": {
   "display_name": "Python 3 (ipykernel)",
   "language": "python",
   "name": "python3"
  },
  "language_info": {
   "codemirror_mode": {
    "name": "ipython",
    "version": 3
   },
   "file_extension": ".py",
   "mimetype": "text/x-python",
   "name": "python",
   "nbconvert_exporter": "python",
   "pygments_lexer": "ipython3",
   "version": "3.9.12"
  }
 },
 "nbformat": 4,
 "nbformat_minor": 5
}
