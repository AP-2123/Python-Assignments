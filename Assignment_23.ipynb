{
 "cells": [
  {
   "cell_type": "markdown",
   "id": "liberal-account",
   "metadata": {},
   "source": [
    "#### 1.What is the result of the code, and why?"
   ]
  },
  {
   "cell_type": "markdown",
   "id": "6cb18846",
   "metadata": {},
   "source": [
    "def func(a, b=6, c=8): \n",
    "    print(a, b, c)\n",
    "func(1, 2)"
   ]
  },
  {
   "cell_type": "markdown",
   "id": "ed5e1b56",
   "metadata": {},
   "source": [
    "The line func() takes two values, that is 1 and 2 respectively, but the func() is defined to take 3 values, as in func() we pass only two values, the third value comes from the default value, that is c = 8."
   ]
  },
  {
   "cell_type": "code",
   "execution_count": 1,
   "id": "279becf1",
   "metadata": {},
   "outputs": [
    {
     "name": "stdout",
     "output_type": "stream",
     "text": [
      "1 2 8\n"
     ]
    }
   ],
   "source": [
    "def func(a, b=6, c=8): \n",
    "    print(a, b, c)\n",
    "func(1, 2)"
   ]
  },
  {
   "cell_type": "markdown",
   "id": "sharing-council",
   "metadata": {},
   "source": [
    "#### 2. What is the result of this code, and why?"
   ]
  },
  {
   "cell_type": "markdown",
   "id": "7bc64fde",
   "metadata": {},
   "source": [
    "def func(a, b, c=5):\n",
    "    print(a, b, c)\n",
    "func(1, c=3, b=2)\n"
   ]
  },
  {
   "cell_type": "markdown",
   "id": "a2cd73cc",
   "metadata": {},
   "source": [
    "The line func() takes three values, that is 1 , c= 3 snd b = 2 respectively,the func() is defined to take 3 values, as in func() we pass othree values, the default values gets overwritten, and we get the newly passed values.\n"
   ]
  },
  {
   "cell_type": "code",
   "execution_count": 2,
   "id": "0d45c1ae",
   "metadata": {},
   "outputs": [
    {
     "name": "stdout",
     "output_type": "stream",
     "text": [
      "1 2 3\n"
     ]
    }
   ],
   "source": [
    "def func(a, b, c=5):\n",
    "    print(a, b, c)\n",
    "func(1, c=3, b=2)\n"
   ]
  },
  {
   "cell_type": "markdown",
   "id": "acute-talent",
   "metadata": {},
   "source": [
    "#### 3.How about this code: what is its result, and why?"
   ]
  },
  {
   "cell_type": "markdown",
   "id": "1ac851a2",
   "metadata": {},
   "source": [
    "def func(a, *pargs):\n",
    "    print(a, pargs)\n",
    "func(1, 2, 3)"
   ]
  },
  {
   "cell_type": "markdown",
   "id": "7512e0d1",
   "metadata": {},
   "source": [
    "The special syntax *pargs in function definitions in python is used to pass a variable number of arguments to a function. It is used to pass a non-key worded, variable-length argument list. The syntax is to use the symbol * to take in a variable number of arguments; by convention, it is often used with the word args.\n",
    "What *pargs allows you to do is take in more arguments than the number of formal arguments that you previously defined. With *pargs, any number of extra arguments can be tacked on to your current formal parameters (including zero extra arguments).\n"
   ]
  },
  {
   "cell_type": "code",
   "execution_count": 3,
   "id": "5cd37291",
   "metadata": {},
   "outputs": [
    {
     "name": "stdout",
     "output_type": "stream",
     "text": [
      "1 (2, 3)\n"
     ]
    }
   ],
   "source": [
    "def func(a, *pargs):\n",
    "    print(a, pargs)\n",
    "func(1, 2, 3)"
   ]
  },
  {
   "cell_type": "markdown",
   "id": "outdoor-setup",
   "metadata": {},
   "source": [
    "#### 4. What does this code print, and why?"
   ]
  },
  {
   "cell_type": "markdown",
   "id": "dbea524d",
   "metadata": {},
   "source": [
    "def func(a, **kargs):\n",
    "    print(a, kargs)\n",
    "func(a=1, c=3, b=2)"
   ]
  },
  {
   "cell_type": "raw",
   "id": "387c7dd9",
   "metadata": {},
   "source": [
    "The special syntax **kargs  in function definitions in python is used to pass a keyworded, variable-length argument list. We use the name kwargs with the double star. The reason is because the double star allows us to pass through keyword arguments (and any number of them)."
   ]
  },
  {
   "cell_type": "code",
   "execution_count": 4,
   "id": "99e39ad4",
   "metadata": {},
   "outputs": [
    {
     "name": "stdout",
     "output_type": "stream",
     "text": [
      "1 {'c': 3, 'b': 2}\n"
     ]
    }
   ],
   "source": [
    "def func(a, **kargs):\n",
    "    print(a, kargs)\n",
    "func(a=1, c=3, b=2)\n"
   ]
  },
  {
   "cell_type": "markdown",
   "id": "caring-viewer",
   "metadata": {},
   "source": [
    "#### 5. What gets printed by this, and explain?"
   ]
  },
  {
   "cell_type": "markdown",
   "id": "242c940c",
   "metadata": {},
   "source": [
    "def func(a, b, c=8, d=5): \n",
    "    print(a, b, c, d)\n",
    "func(1, *(5, 6))"
   ]
  },
  {
   "cell_type": "code",
   "execution_count": 5,
   "id": "5dea7c8c",
   "metadata": {},
   "outputs": [
    {
     "name": "stdout",
     "output_type": "stream",
     "text": [
      "1 5 6 5\n"
     ]
    }
   ],
   "source": [
    "def func(a, b, c=8, d=5): \n",
    "    print(a, b, c, d)\n",
    "func(1, *(5, 6))"
   ]
  },
  {
   "cell_type": "markdown",
   "id": "complimentary-cabinet",
   "metadata": {},
   "source": [
    "#### 6.what is the result of this, and explain?"
   ]
  },
  {
   "cell_type": "markdown",
   "id": "a7e42e5d",
   "metadata": {},
   "source": [
    "def func(a, b, c): \n",
    "    a = 2; b[0] = 'x'; c['a'] = 'y'\n",
    "l=1; m=[1]; n={'a':0}\n",
    "func(l, m, n)"
   ]
  },
  {
   "cell_type": "code",
   "execution_count": 7,
   "id": "10d03cc4",
   "metadata": {},
   "outputs": [],
   "source": [
    "def func(a, b, c): \n",
    "    a = 2; \n",
    "    b[0] = 'x'; \n",
    "    c['a'] = 'y'\n",
    "    \n",
    "l=1; m=[1]; n={'a':0}\n",
    "func(l, m, n)"
   ]
  }
 ],
 "metadata": {
  "kernelspec": {
   "display_name": "Python 3 (ipykernel)",
   "language": "python",
   "name": "python3"
  },
  "language_info": {
   "codemirror_mode": {
    "name": "ipython",
    "version": 3
   },
   "file_extension": ".py",
   "mimetype": "text/x-python",
   "name": "python",
   "nbconvert_exporter": "python",
   "pygments_lexer": "ipython3",
   "version": "3.9.12"
  },
  "toc": {
   "base_numbering": 1,
   "nav_menu": {},
   "number_sections": true,
   "sideBar": true,
   "skip_h1_title": false,
   "title_cell": "Table of Contents",
   "title_sidebar": "Contents",
   "toc_cell": false,
   "toc_position": {},
   "toc_section_display": true,
   "toc_window_display": false
  }
 },
 "nbformat": 4,
 "nbformat_minor": 5
}
