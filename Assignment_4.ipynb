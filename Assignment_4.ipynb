{
 "cells": [
  {
   "cell_type": "markdown",
   "id": "f0406d60",
   "metadata": {},
   "source": [
    "#### 1. What exactly is [ ]?"
   ]
  },
  {
   "cell_type": "raw",
   "id": "b0d21f2a",
   "metadata": {},
   "source": [
    "==> List is a built in datatype that is used to store multiple data.\n",
    "lst = [1,2,'Sachin',[1,2,3],2.3]"
   ]
  },
  {
   "cell_type": "markdown",
   "id": "6390ab5b",
   "metadata": {},
   "source": [
    "#### 2. In a list of values stored in a variable called spam, how would you assign the value 'hello' as the third value?                 (Assume [2, 4, 6, 8, 10] are in spam.) .Lets pretend the spam includes the list ['a', 'b', 'c', 'd'] for the next three queries."
   ]
  },
  {
   "cell_type": "raw",
   "id": "a4e5be08",
   "metadata": {},
   "source": [
    "Ans ==>spam.insert(2,'hello')"
   ]
  },
  {
   "cell_type": "code",
   "execution_count": 1,
   "id": "08c6518b",
   "metadata": {},
   "outputs": [
    {
     "name": "stdout",
     "output_type": "stream",
     "text": [
      "[2, 4, 'hello', 6, 8, 10]\n"
     ]
    }
   ],
   "source": [
    "spam =[2, 4, 6, 8, 10] \n",
    "spam.insert(2,'hello')\n",
    "print(spam)"
   ]
  },
  {
   "cell_type": "markdown",
   "id": "6c8d8e31",
   "metadata": {},
   "source": [
    "#### 3. What is the value of spam[int(int('3' * 2) / 11)]?"
   ]
  },
  {
   "cell_type": "code",
   "execution_count": 2,
   "id": "b4590b92",
   "metadata": {},
   "outputs": [
    {
     "data": {
      "text/plain": [
       "'d'"
      ]
     },
     "execution_count": 2,
     "metadata": {},
     "output_type": "execute_result"
    }
   ],
   "source": [
    "spam = ['a', 'b', 'c', 'd']\n",
    "spam[int(int('3' * 2) / 11)]"
   ]
  },
  {
   "cell_type": "markdown",
   "id": "3d19e644",
   "metadata": {},
   "source": [
    "#### 4. What is the value of spam[-1]?"
   ]
  },
  {
   "cell_type": "raw",
   "id": "02f9e15b",
   "metadata": {},
   "source": [
    "Ans==> 'd'"
   ]
  },
  {
   "cell_type": "code",
   "execution_count": 3,
   "id": "99c4133b",
   "metadata": {},
   "outputs": [
    {
     "data": {
      "text/plain": [
       "'d'"
      ]
     },
     "execution_count": 3,
     "metadata": {},
     "output_type": "execute_result"
    }
   ],
   "source": [
    "spam[-1]"
   ]
  },
  {
   "cell_type": "markdown",
   "id": "e17b6218",
   "metadata": {},
   "source": [
    "#### 5. What is the value of spam[:2]?"
   ]
  },
  {
   "cell_type": "raw",
   "id": "8ce627f0",
   "metadata": {},
   "source": [
    "Ans ==> ['a', 'b']"
   ]
  },
  {
   "cell_type": "code",
   "execution_count": 4,
   "id": "1ca0e312",
   "metadata": {},
   "outputs": [
    {
     "data": {
      "text/plain": [
       "['a', 'b']"
      ]
     },
     "execution_count": 4,
     "metadata": {},
     "output_type": "execute_result"
    }
   ],
   "source": [
    "spam[:2]"
   ]
  },
  {
   "cell_type": "markdown",
   "id": "b18d393b",
   "metadata": {},
   "source": [
    "#### Let's pretend bacon has the list [3.14, 'cat,' 11, 'cat,' True] for the next three questions."
   ]
  },
  {
   "cell_type": "markdown",
   "id": "fed9b441",
   "metadata": {},
   "source": [
    "#### 6. What is the value of bacon.index('cat')?"
   ]
  },
  {
   "cell_type": "raw",
   "id": "a06f75c0",
   "metadata": {},
   "source": [
    "Ans==> 1"
   ]
  },
  {
   "cell_type": "code",
   "execution_count": 5,
   "id": "986f9a41",
   "metadata": {},
   "outputs": [
    {
     "data": {
      "text/plain": [
       "1"
      ]
     },
     "execution_count": 5,
     "metadata": {},
     "output_type": "execute_result"
    }
   ],
   "source": [
    "bacon =  [3.14, 'cat', 11, 'cat', True] \n",
    "bacon.index('cat')"
   ]
  },
  {
   "cell_type": "markdown",
   "id": "2c8a1c6a",
   "metadata": {},
   "source": [
    "#### 7. How does bacon.append(99) change the look of the list value in bacon?"
   ]
  },
  {
   "cell_type": "raw",
   "id": "6adb55ec",
   "metadata": {},
   "source": [
    "Ans==>[3.14, 'cat', 11, 'cat', True, 99]"
   ]
  },
  {
   "cell_type": "code",
   "execution_count": 6,
   "id": "148ee8a1",
   "metadata": {},
   "outputs": [
    {
     "data": {
      "text/plain": [
       "[3.14, 'cat', 11, 'cat', True, 99]"
      ]
     },
     "execution_count": 6,
     "metadata": {},
     "output_type": "execute_result"
    }
   ],
   "source": [
    "bacon.append(99)\n",
    "bacon"
   ]
  },
  {
   "cell_type": "markdown",
   "id": "30f4c77b",
   "metadata": {},
   "source": [
    "#### 8. How does bacon.remove('cat') change the look of the list in bacon?"
   ]
  },
  {
   "cell_type": "raw",
   "id": "30e47f3b",
   "metadata": {},
   "source": [
    "Ans==>[3.14, 11, 'cat', True, 99]"
   ]
  },
  {
   "cell_type": "code",
   "execution_count": 7,
   "id": "ed5ecd73",
   "metadata": {},
   "outputs": [
    {
     "data": {
      "text/plain": [
       "[3.14, 11, 'cat', True, 99]"
      ]
     },
     "execution_count": 7,
     "metadata": {},
     "output_type": "execute_result"
    }
   ],
   "source": [
    "bacon.remove('cat')\n",
    "bacon"
   ]
  },
  {
   "cell_type": "markdown",
   "id": "2a9322c7",
   "metadata": {},
   "source": [
    "#### 9. What are the list concatenation and list replication operators?"
   ]
  },
  {
   "cell_type": "raw",
   "id": "0f18fa94",
   "metadata": {},
   "source": [
    "Ans==>\n",
    "cocatenation==> +\n",
    "replication ==> *"
   ]
  },
  {
   "cell_type": "code",
   "execution_count": 9,
   "id": "b300c257",
   "metadata": {},
   "outputs": [
    {
     "name": "stdout",
     "output_type": "stream",
     "text": [
      "[1, 2, 3, 4, 5, 6]\n",
      "[1, 2, 3, 1, 2, 3]\n"
     ]
    }
   ],
   "source": [
    "l1 =[1,2,3]\n",
    "l2 = [4,5,6]\n",
    "print(l1+l2)\n",
    "print(l1*2)\n"
   ]
  },
  {
   "cell_type": "markdown",
   "id": "02732d10",
   "metadata": {},
   "source": [
    "#### 10. What is difference between the list methods append() and insert()?"
   ]
  },
  {
   "cell_type": "raw",
   "id": "ea8ce435",
   "metadata": {},
   "source": [
    "Ans==>\n",
    "The append() method appends an element to the end of the list.\n",
    "The insert() method insert an element to the specific index."
   ]
  },
  {
   "cell_type": "markdown",
   "id": "5cecb888",
   "metadata": {},
   "source": [
    "#### 11. What are the two methods for removing items from a list?"
   ]
  },
  {
   "cell_type": "raw",
   "id": "83ffbee4",
   "metadata": {},
   "source": [
    "Ans==>\n",
    "1.remove()\n",
    "2.pop()"
   ]
  },
  {
   "cell_type": "code",
   "execution_count": 10,
   "id": "60b90b87",
   "metadata": {},
   "outputs": [
    {
     "data": {
      "text/plain": [
       "['a', 'c']"
      ]
     },
     "execution_count": 10,
     "metadata": {},
     "output_type": "execute_result"
    }
   ],
   "source": [
    "l = ['a','b','c']\n",
    "l.remove('b') # value to pass\n",
    "l"
   ]
  },
  {
   "cell_type": "code",
   "execution_count": 11,
   "id": "a2551c67",
   "metadata": {},
   "outputs": [
    {
     "data": {
      "text/plain": [
       "'c'"
      ]
     },
     "execution_count": 11,
     "metadata": {},
     "output_type": "execute_result"
    }
   ],
   "source": [
    "l.pop(1) # index to pass"
   ]
  },
  {
   "cell_type": "markdown",
   "id": "cbcd1126",
   "metadata": {},
   "source": [
    "#### 12. Describe how list values and string values are identical."
   ]
  },
  {
   "cell_type": "raw",
   "id": "2cf7d679",
   "metadata": {},
   "source": [
    "Ans==>\n",
    "Strings are sequence of characters whereas List is sequence of int,chars,even sub list"
   ]
  },
  {
   "cell_type": "markdown",
   "id": "0cc6f0ff",
   "metadata": {},
   "source": [
    "#### 13. What's the difference between tuples and lists?"
   ]
  },
  {
   "cell_type": "raw",
   "id": "e3db4239",
   "metadata": {},
   "source": [
    "Ans==>\n",
    "Tuple are immutable while list is mutable"
   ]
  },
  {
   "cell_type": "markdown",
   "id": "d6252f20",
   "metadata": {},
   "source": [
    "#### 14. How do you type a tuple value that only contains the integer 42?"
   ]
  },
  {
   "cell_type": "raw",
   "id": "60fbdb5d",
   "metadata": {},
   "source": [
    "Ans==>\n",
    "(42,)"
   ]
  },
  {
   "cell_type": "markdown",
   "id": "14e53479",
   "metadata": {},
   "source": [
    "#### 15. How do you get a list value's tuple form? How do you get a tuple value's list form?"
   ]
  },
  {
   "cell_type": "raw",
   "id": "2f753dcd",
   "metadata": {},
   "source": [
    "Ans==>\n",
    "By typecasting"
   ]
  },
  {
   "cell_type": "code",
   "execution_count": 13,
   "id": "82e7d0f0",
   "metadata": {},
   "outputs": [
    {
     "data": {
      "text/plain": [
       "(1, 2, 3)"
      ]
     },
     "execution_count": 13,
     "metadata": {},
     "output_type": "execute_result"
    }
   ],
   "source": [
    "lst = [1,2,3]\n",
    "tup = tuple(lst)\n",
    "tup"
   ]
  },
  {
   "cell_type": "code",
   "execution_count": 14,
   "id": "f5a57b7e",
   "metadata": {},
   "outputs": [
    {
     "name": "stdout",
     "output_type": "stream",
     "text": [
      "[1, 2, 3]\n"
     ]
    }
   ],
   "source": [
    "lst1 = list(tup)\n",
    "print(lst1)"
   ]
  },
  {
   "cell_type": "markdown",
   "id": "5f2418a0",
   "metadata": {},
   "source": [
    "#### 16. Variables that \"contain\" list values are not necessarily lists themselves. Instead, what do they contain?"
   ]
  },
  {
   "cell_type": "raw",
   "id": "659caf1f",
   "metadata": {},
   "source": [
    "Ans==>\n",
    "references to list values"
   ]
  },
  {
   "cell_type": "markdown",
   "id": "fd0adbd6",
   "metadata": {},
   "source": [
    "#### 17. How do you distinguish between copy.copy() and copy.deepcopy()?"
   ]
  },
  {
   "cell_type": "raw",
   "id": "0140db37",
   "metadata": {},
   "source": [
    "copy.copy() create reference to original object. If you change copied object you change the original object.  copy.deepcopy() creates new object and does real copying of original object to new one."
   ]
  }
 ],
 "metadata": {
  "kernelspec": {
   "display_name": "Python 3 (ipykernel)",
   "language": "python",
   "name": "python3"
  },
  "language_info": {
   "codemirror_mode": {
    "name": "ipython",
    "version": 3
   },
   "file_extension": ".py",
   "mimetype": "text/x-python",
   "name": "python",
   "nbconvert_exporter": "python",
   "pygments_lexer": "ipython3",
   "version": "3.9.12"
  }
 },
 "nbformat": 4,
 "nbformat_minor": 5
}
