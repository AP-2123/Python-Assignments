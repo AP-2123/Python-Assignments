{
 "cells": [
  {
   "cell_type": "markdown",
   "id": "1f914ec9",
   "metadata": {},
   "source": [
    "####  1. In the below elements which of them are values or an expression? eg:- values can be integer or string and expressions will be mathematical operators."
   ]
  },
  {
   "cell_type": "raw",
   "id": "8e45d69d",
   "metadata": {},
   "source": [
    "* \n",
    "'hello'\n",
    "-87.8\n",
    "- \n",
    "/ \n",
    "+\n",
    "6 "
   ]
  },
  {
   "cell_type": "raw",
   "id": "1d54d7ed",
   "metadata": {},
   "source": [
    "Ans==>\n",
    "\n",
    "*      --> multiplication\n",
    "'hello'--> str\n",
    "-87.8  --> float\n",
    "-      --> substraction\n",
    "/      --> division\n",
    "+      --> addition\n",
    "6      --> int"
   ]
  },
  {
   "cell_type": "markdown",
   "id": "9d8ddb63",
   "metadata": {},
   "source": [
    "#### 2. What is the difference between string and variable?"
   ]
  },
  {
   "cell_type": "raw",
   "id": "c7460b28",
   "metadata": {},
   "source": [
    "Ans ==>\n",
    "String is datatype or type of information\n",
    "whereas variable is what to which information is assigned or we can say where data is stored.\n",
    "eg.\n",
    "   a = 'xyz'\n",
    "   where,a is variable which hold information xyz as string."
   ]
  },
  {
   "cell_type": "markdown",
   "id": "11bf1934",
   "metadata": {},
   "source": [
    "####  3. Describe three different data types."
   ]
  },
  {
   "cell_type": "raw",
   "id": "8487398a",
   "metadata": {},
   "source": [
    "Ans ==>\n",
    "There are different types of datatypes in python eg.int,float,str,bool,list,tuple,dict,set,nonetype\n",
    "\n",
    "1. int - Integers are zero,postive or negative whole numbers\n",
    "   eg. 0,10,100,-10\n",
    "2. float-Float is used to represent real numbers and is written with a decimal point dividing the integer and fractional      parts. \n",
    "   eg. 10.2,50.66 \n",
    "3. str - Strings are arrays of bytes representing unicode characters.\n",
    "   eg.'iNeuron','apple'"
   ]
  },
  {
   "cell_type": "markdown",
   "id": "cf5aceaf",
   "metadata": {},
   "source": [
    "#### 4. What is an expression made up of? What do all expressions do?"
   ]
  },
  {
   "cell_type": "markdown",
   "id": "7746cb64",
   "metadata": {},
   "source": [
    "Ans==>\n",
    "An expression is a combination of operators and operands that is interpreted to produce some other value."
   ]
  },
  {
   "cell_type": "code",
   "execution_count": 3,
   "id": "e44fcad9",
   "metadata": {},
   "outputs": [
    {
     "name": "stdout",
     "output_type": "stream",
     "text": [
      "200\n"
     ]
    }
   ],
   "source": [
    "a = 10\n",
    "b = 20\n",
    "c = a*b \n",
    "print(c)"
   ]
  },
  {
   "cell_type": "markdown",
   "id": "b2baf72d",
   "metadata": {},
   "source": [
    "#### 5. This assignment statements, like spam = 10. What is the difference between an expression and a statement?"
   ]
  },
  {
   "cell_type": "raw",
   "id": "46e1f00d",
   "metadata": {},
   "source": [
    "Ans==>\n",
    "Expression ==>It is a combination of operators and operands that is interpreted to produce some other value."
   ]
  },
  {
   "cell_type": "code",
   "execution_count": 2,
   "id": "b18e0878",
   "metadata": {},
   "outputs": [],
   "source": [
    "#eg. \n",
    "spam = 10\n",
    "#spam,10 ==> operands\n",
    "# = ==> assignment operator"
   ]
  },
  {
   "cell_type": "raw",
   "id": "166e49f1",
   "metadata": {},
   "source": [
    "Statement ==>It creates or displays values."
   ]
  },
  {
   "cell_type": "code",
   "execution_count": 4,
   "id": "2065b8c7",
   "metadata": {},
   "outputs": [
    {
     "name": "stdout",
     "output_type": "stream",
     "text": [
      "10\n"
     ]
    }
   ],
   "source": [
    "print(spam)"
   ]
  },
  {
   "cell_type": "markdown",
   "id": "07bd2f8d",
   "metadata": {},
   "source": [
    "#### 6. After running the following code, what does the variable bacon contain?"
   ]
  },
  {
   "cell_type": "raw",
   "id": "bd635a43",
   "metadata": {},
   "source": [
    "bacon = 22\n",
    "bacon + 1"
   ]
  },
  {
   "cell_type": "raw",
   "id": "77f0d61a",
   "metadata": {},
   "source": [
    "Ans==> value 22 is assigned to variable bacon and it will be increased by 1."
   ]
  },
  {
   "cell_type": "code",
   "execution_count": 5,
   "id": "f53f88e3",
   "metadata": {},
   "outputs": [
    {
     "data": {
      "text/plain": [
       "23"
      ]
     },
     "execution_count": 5,
     "metadata": {},
     "output_type": "execute_result"
    }
   ],
   "source": [
    "bacon = 22\n",
    "bacon + 1"
   ]
  },
  {
   "cell_type": "markdown",
   "id": "d40f71b7",
   "metadata": {},
   "source": [
    "#### 7. What should the values of the following two terms be?"
   ]
  },
  {
   "cell_type": "raw",
   "id": "d3639ff1",
   "metadata": {},
   "source": [
    "'spam' + 'spamspam'\n",
    "'spam' * 3"
   ]
  },
  {
   "cell_type": "raw",
   "id": "d293bcdd",
   "metadata": {},
   "source": [
    "Ans==>\n",
    "Concatenation of string - 'spamspamspam'"
   ]
  },
  {
   "cell_type": "code",
   "execution_count": 6,
   "id": "ffe3cf1b",
   "metadata": {},
   "outputs": [
    {
     "data": {
      "text/plain": [
       "'spamspamspam'"
      ]
     },
     "execution_count": 6,
     "metadata": {},
     "output_type": "execute_result"
    }
   ],
   "source": [
    "'spam' + 'spamspam'"
   ]
  },
  {
   "cell_type": "code",
   "execution_count": 7,
   "id": "16d26542",
   "metadata": {},
   "outputs": [
    {
     "data": {
      "text/plain": [
       "'spamspamspam'"
      ]
     },
     "execution_count": 7,
     "metadata": {},
     "output_type": "execute_result"
    }
   ],
   "source": [
    "'spam' * 3"
   ]
  },
  {
   "cell_type": "markdown",
   "id": "fc86c6d1",
   "metadata": {},
   "source": [
    "#### 8. Why is eggs a valid variable name while 100 is invalid?"
   ]
  },
  {
   "cell_type": "raw",
   "id": "5060a841",
   "metadata": {},
   "source": [
    "Ans==> \n",
    "We can create variable starting with alphabets and underscore(_) symbol only and not by numbers."
   ]
  },
  {
   "cell_type": "code",
   "execution_count": 9,
   "id": "d2871605",
   "metadata": {},
   "outputs": [],
   "source": [
    "eggs = 10"
   ]
  },
  {
   "cell_type": "code",
   "execution_count": 10,
   "id": "43315975",
   "metadata": {},
   "outputs": [
    {
     "ename": "SyntaxError",
     "evalue": "cannot assign to literal (2666396822.py, line 1)",
     "output_type": "error",
     "traceback": [
      "\u001b[1;36m  Input \u001b[1;32mIn [10]\u001b[1;36m\u001b[0m\n\u001b[1;33m    100 = 10\u001b[0m\n\u001b[1;37m    ^\u001b[0m\n\u001b[1;31mSyntaxError\u001b[0m\u001b[1;31m:\u001b[0m cannot assign to literal\n"
     ]
    }
   ],
   "source": [
    "100 = 10"
   ]
  },
  {
   "cell_type": "code",
   "execution_count": 11,
   "id": "36115c7b",
   "metadata": {},
   "outputs": [],
   "source": [
    "_a = 10"
   ]
  },
  {
   "cell_type": "code",
   "execution_count": 12,
   "id": "76303637",
   "metadata": {},
   "outputs": [],
   "source": [
    "_100 = 10"
   ]
  },
  {
   "cell_type": "markdown",
   "id": "b5b4b734",
   "metadata": {},
   "source": [
    "#### 9. What three functions can be used to get the integer, floating-point number, or string version of a value?"
   ]
  },
  {
   "cell_type": "raw",
   "id": "5070b7b9",
   "metadata": {},
   "source": [
    "Ans ==>\n",
    "int(),float(),str()"
   ]
  },
  {
   "cell_type": "markdown",
   "id": "97efebf1",
   "metadata": {},
   "source": [
    "#### 10. Why does this expression cause an error? How can you fix it?\n",
    "'I have eaten ' + 99 + ' burritos.'\n"
   ]
  },
  {
   "cell_type": "raw",
   "id": "731c53d4",
   "metadata": {},
   "source": [
    "Ans==>\n",
    "We can not concatenate strings with integer.For that we have to typecast integer to string."
   ]
  },
  {
   "cell_type": "code",
   "execution_count": 14,
   "id": "d88a8a3b",
   "metadata": {},
   "outputs": [
    {
     "ename": "TypeError",
     "evalue": "can only concatenate str (not \"int\") to str",
     "output_type": "error",
     "traceback": [
      "\u001b[1;31m---------------------------------------------------------------------------\u001b[0m",
      "\u001b[1;31mTypeError\u001b[0m                                 Traceback (most recent call last)",
      "Input \u001b[1;32mIn [14]\u001b[0m, in \u001b[0;36m<cell line: 1>\u001b[1;34m()\u001b[0m\n\u001b[1;32m----> 1\u001b[0m \u001b[38;5;124;43m'\u001b[39;49m\u001b[38;5;124;43mI have eaten \u001b[39;49m\u001b[38;5;124;43m'\u001b[39;49m\u001b[43m \u001b[49m\u001b[38;5;241;43m+\u001b[39;49m\u001b[43m \u001b[49m\u001b[38;5;241;43m99\u001b[39;49m \u001b[38;5;241m+\u001b[39m \u001b[38;5;124m'\u001b[39m\u001b[38;5;124m burritos.\u001b[39m\u001b[38;5;124m'\u001b[39m\n",
      "\u001b[1;31mTypeError\u001b[0m: can only concatenate str (not \"int\") to str"
     ]
    }
   ],
   "source": [
    "'I have eaten ' + 99 + ' burritos.'"
   ]
  },
  {
   "cell_type": "code",
   "execution_count": 15,
   "id": "1701e28e",
   "metadata": {},
   "outputs": [
    {
     "data": {
      "text/plain": [
       "'I have eaten 99 burritos.'"
      ]
     },
     "execution_count": 15,
     "metadata": {},
     "output_type": "execute_result"
    }
   ],
   "source": [
    "'I have eaten ' + str('99') + ' burritos.'"
   ]
  },
  {
   "cell_type": "code",
   "execution_count": 16,
   "id": "708a0130",
   "metadata": {},
   "outputs": [
    {
     "data": {
      "text/plain": [
       "'I have eaten 99 burritos.'"
      ]
     },
     "execution_count": 16,
     "metadata": {},
     "output_type": "execute_result"
    }
   ],
   "source": [
    "'I have eaten ' + '99' + ' burritos.'"
   ]
  },
  {
   "cell_type": "code",
   "execution_count": null,
   "id": "a46fa283",
   "metadata": {},
   "outputs": [],
   "source": []
  }
 ],
 "metadata": {
  "kernelspec": {
   "display_name": "Python 3 (ipykernel)",
   "language": "python",
   "name": "python3"
  },
  "language_info": {
   "codemirror_mode": {
    "name": "ipython",
    "version": 3
   },
   "file_extension": ".py",
   "mimetype": "text/x-python",
   "name": "python",
   "nbconvert_exporter": "python",
   "pygments_lexer": "ipython3",
   "version": "3.9.12"
  }
 },
 "nbformat": 4,
 "nbformat_minor": 5
}
