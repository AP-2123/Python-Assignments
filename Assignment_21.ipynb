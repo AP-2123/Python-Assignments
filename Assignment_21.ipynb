{
 "cells": [
  {
   "cell_type": "markdown",
   "id": "liberal-account",
   "metadata": {},
   "source": [
    "#### 1.Add the current date to the text file today.txt as a string."
   ]
  },
  {
   "cell_type": "code",
   "execution_count": 1,
   "id": "385311f2",
   "metadata": {},
   "outputs": [],
   "source": [
    "from datetime import date\n",
    "now = date.today()\n",
    "now_str = now.isoformat()\n",
    "with open('today.txt', 'wt') as output:\n",
    "    print(now_str, file=output)"
   ]
  },
  {
   "cell_type": "markdown",
   "id": "102fd51a",
   "metadata": {},
   "source": [
    "#### 2.Read the text file today.txt into the string today_string"
   ]
  },
  {
   "cell_type": "code",
   "execution_count": 2,
   "id": "2dbd0a81",
   "metadata": {},
   "outputs": [
    {
     "data": {
      "text/plain": [
       "'2022-11-02\\n'"
      ]
     },
     "execution_count": 2,
     "metadata": {},
     "output_type": "execute_result"
    }
   ],
   "source": [
    "with open('today.txt', 'rt') as input:\n",
    "    today_string = input.read()\n",
    "    \n",
    "today_string"
   ]
  },
  {
   "cell_type": "markdown",
   "id": "acute-talent",
   "metadata": {},
   "source": [
    "#### 3.Parse the date from today_string."
   ]
  },
  {
   "cell_type": "code",
   "execution_count": 3,
   "id": "52c6cab3",
   "metadata": {},
   "outputs": [
    {
     "data": {
      "text/plain": [
       "datetime.datetime(2022, 11, 2, 0, 0)"
      ]
     },
     "execution_count": 3,
     "metadata": {},
     "output_type": "execute_result"
    }
   ],
   "source": [
    "from datetime import datetime\n",
    "fmt = '%Y-%m-%d\\n'\n",
    "datetime.strptime(today_string, fmt)"
   ]
  },
  {
   "cell_type": "markdown",
   "id": "outdoor-setup",
   "metadata": {},
   "source": [
    "#### 4.List the files in your current directory"
   ]
  },
  {
   "cell_type": "code",
   "execution_count": 4,
   "id": "5f61e860",
   "metadata": {},
   "outputs": [
    {
     "data": {
      "text/plain": [
       "['.ipynb_checkpoints',\n",
       " 'Assignment_1.docx',\n",
       " 'Assignment_1.ipynb',\n",
       " 'Assignment_10.docx',\n",
       " 'Assignment_10.ipynb',\n",
       " 'Assignment_11.docx',\n",
       " 'Assignment_11.ipynb',\n",
       " 'Assignment_12.docx',\n",
       " 'Assignment_12.ipynb',\n",
       " 'Assignment_13.docx',\n",
       " 'Assignment_13.ipynb',\n",
       " 'Assignment_14.docx',\n",
       " 'Assignment_14.ipynb',\n",
       " 'Assignment_15.docx',\n",
       " 'Assignment_15.ipynb',\n",
       " 'Assignment_16.docx',\n",
       " 'Assignment_16.ipynb',\n",
       " 'Assignment_17.docx',\n",
       " 'Assignment_17.ipynb',\n",
       " 'Assignment_18.docx',\n",
       " 'Assignment_18.ipynb',\n",
       " 'Assignment_19.docx',\n",
       " 'Assignment_19.ipynb',\n",
       " 'Assignment_2.docx',\n",
       " 'Assignment_2.ipynb',\n",
       " 'Assignment_20.docx',\n",
       " 'Assignment_20.ipynb',\n",
       " 'Assignment_21.docx',\n",
       " 'Assignment_21.ipynb',\n",
       " 'Assignment_22.docx',\n",
       " 'Assignment_22.ipynb',\n",
       " 'Assignment_23.docx',\n",
       " 'Assignment_23.ipynb',\n",
       " 'Assignment_24.docx',\n",
       " 'Assignment_24.ipynb',\n",
       " 'Assignment_25.docx',\n",
       " 'Assignment_25.ipynb',\n",
       " 'Assignment_3.docx',\n",
       " 'Assignment_3.ipynb',\n",
       " 'Assignment_4.docx',\n",
       " 'Assignment_4.ipynb',\n",
       " 'Assignment_5.docx',\n",
       " 'Assignment_5.ipynb',\n",
       " 'Assignment_6.docx',\n",
       " 'Assignment_6.ipynb',\n",
       " 'Assignment_7.docx',\n",
       " 'Assignment_7.ipynb',\n",
       " 'Assignment_8.docx',\n",
       " 'Assignment_8.ipynb',\n",
       " 'Assignment_9.docx',\n",
       " 'Assignment_9.ipynb',\n",
       " 'books.csv',\n",
       " 'books.db',\n",
       " 'desktop.ini',\n",
       " 'P1.ipynb',\n",
       " 'P10.ipynb',\n",
       " 'P2.ipynb',\n",
       " 'P3.ipynb',\n",
       " 'P4.ipynb',\n",
       " 'P5.ipynb',\n",
       " 'P6.ipynb',\n",
       " 'P7.ipynb',\n",
       " 'P8.ipynb',\n",
       " 'P9.ipynb',\n",
       " 'Programming_Assingment1.docx',\n",
       " 'Programming_Assingment10.docx',\n",
       " 'Programming_Assingment11.docx',\n",
       " 'Programming_Assingment12.docx',\n",
       " 'Programming_Assingment13.docx',\n",
       " 'Programming_Assingment14.docx',\n",
       " 'Programming_Assingment15.docx',\n",
       " 'Programming_Assingment16.docx',\n",
       " 'Programming_Assingment17.docx',\n",
       " 'Programming_Assingment18.docx',\n",
       " 'Programming_Assingment19.docx',\n",
       " 'Programming_Assingment2.docx',\n",
       " 'Programming_Assingment20.docx',\n",
       " 'Programming_Assingment21.docx',\n",
       " 'Programming_Assingment22.docx',\n",
       " 'Programming_Assingment23.docx',\n",
       " 'Programming_Assingment24.docx',\n",
       " 'Programming_Assingment25.docx',\n",
       " 'Programming_Assingment3.docx',\n",
       " 'Programming_Assingment4.docx',\n",
       " 'Programming_Assingment5.docx',\n",
       " 'Programming_Assingment6.docx',\n",
       " 'Programming_Assingment7.docx',\n",
       " 'Programming_Assingment8.docx',\n",
       " 'Programming_Assingment9.docx',\n",
       " 'test.txt',\n",
       " 'today.txt',\n",
       " 'zoo.ipynb',\n",
       " 'zoo.py',\n",
       " '__pycache__',\n",
       " '~$ogramming_Assingment11.docx',\n",
       " '~$signment_21.docx']"
      ]
     },
     "execution_count": 4,
     "metadata": {},
     "output_type": "execute_result"
    }
   ],
   "source": [
    "import os\n",
    "os.listdir('.')"
   ]
  },
  {
   "cell_type": "markdown",
   "id": "caring-viewer",
   "metadata": {},
   "source": [
    "#### 5.Create a list of all of the files in your parent directory (minimum five files should be available)."
   ]
  },
  {
   "cell_type": "code",
   "execution_count": 5,
   "id": "d51a2327",
   "metadata": {},
   "outputs": [
    {
     "data": {
      "text/plain": [
       "['Adv python',\n",
       " 'Basic Python',\n",
       " 'CV',\n",
       " 'desktop.ini',\n",
       " 'EDA Asisgnment',\n",
       " 'FSDS_Sep',\n",
       " 'iNeuron-Python-Basic-Assignments-main',\n",
       " 'NLP']"
      ]
     },
     "execution_count": 5,
     "metadata": {},
     "output_type": "execute_result"
    }
   ],
   "source": [
    "os.listdir('..')"
   ]
  },
  {
   "cell_type": "markdown",
   "id": "special-graduation",
   "metadata": {},
   "source": [
    "##### 7. Create a date object of your day of birth."
   ]
  },
  {
   "cell_type": "code",
   "execution_count": 6,
   "id": "d013f197",
   "metadata": {},
   "outputs": [
    {
     "data": {
      "text/plain": [
       "datetime.date(1998, 10, 11)"
      ]
     },
     "execution_count": 6,
     "metadata": {},
     "output_type": "execute_result"
    }
   ],
   "source": [
    "my_day = date(1998, 10, 11)\n",
    "my_day"
   ]
  },
  {
   "cell_type": "markdown",
   "id": "conscious-adult",
   "metadata": {},
   "source": [
    "#### 8. What day of the week was your day of birth?"
   ]
  },
  {
   "cell_type": "markdown",
   "id": "f3a35f8c",
   "metadata": {},
   "source": [
    "With weekday(), Monday is 0 and Sunday is 6. With isoweekday(), Monday is 1 and\n",
    "Sunday is 7. Therefore, this date is a Sunday."
   ]
  },
  {
   "cell_type": "code",
   "execution_count": 7,
   "id": "128027e4",
   "metadata": {},
   "outputs": [
    {
     "data": {
      "text/plain": [
       "6"
      ]
     },
     "execution_count": 7,
     "metadata": {},
     "output_type": "execute_result"
    }
   ],
   "source": [
    "my_day.weekday()"
   ]
  },
  {
   "cell_type": "code",
   "execution_count": 8,
   "id": "7c73532a",
   "metadata": {},
   "outputs": [
    {
     "data": {
      "text/plain": [
       "7"
      ]
     },
     "execution_count": 8,
     "metadata": {},
     "output_type": "execute_result"
    }
   ],
   "source": [
    "my_day.isoweekday()"
   ]
  },
  {
   "cell_type": "markdown",
   "id": "dynamic-madison",
   "metadata": {},
   "source": [
    "#### 9. When will you be (or when were you) 10,000 days old?"
   ]
  },
  {
   "cell_type": "code",
   "execution_count": 9,
   "id": "e1736c7a",
   "metadata": {},
   "outputs": [
    {
     "data": {
      "text/plain": [
       "datetime.date(2026, 2, 26)"
      ]
     },
     "execution_count": 9,
     "metadata": {},
     "output_type": "execute_result"
    }
   ],
   "source": [
    "from datetime import timedelta\n",
    "ten_thousand = my_day + timedelta(days=10000)\n",
    "ten_thousand"
   ]
  },
  {
   "cell_type": "code",
   "execution_count": null,
   "id": "9dbdbfa9",
   "metadata": {},
   "outputs": [],
   "source": []
  }
 ],
 "metadata": {
  "kernelspec": {
   "display_name": "Python 3 (ipykernel)",
   "language": "python",
   "name": "python3"
  },
  "language_info": {
   "codemirror_mode": {
    "name": "ipython",
    "version": 3
   },
   "file_extension": ".py",
   "mimetype": "text/x-python",
   "name": "python",
   "nbconvert_exporter": "python",
   "pygments_lexer": "ipython3",
   "version": "3.9.12"
  },
  "toc": {
   "base_numbering": 1,
   "nav_menu": {},
   "number_sections": true,
   "sideBar": true,
   "skip_h1_title": false,
   "title_cell": "Table of Contents",
   "title_sidebar": "Contents",
   "toc_cell": false,
   "toc_position": {},
   "toc_section_display": true,
   "toc_window_display": false
  }
 },
 "nbformat": 4,
 "nbformat_minor": 5
}
